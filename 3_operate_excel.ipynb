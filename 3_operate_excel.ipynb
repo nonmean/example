{
 "cells": [
  {
   "cell_type": "code",
   "execution_count": 38,
   "metadata": {},
   "outputs": [],
   "source": [
    "from openpyxl import Workbook\n",
    "from openpyxl.chart import ScatterChart, Reference, Series\n",
    "import numpy as np\n",
    "\n",
    "\n",
    "# required lib: openpyxl"
   ]
  },
  {
   "cell_type": "code",
   "execution_count": 33,
   "metadata": {},
   "outputs": [
    {
     "name": "stdout",
     "output_type": "stream",
     "text": [
      "<class 'openpyxl.workbook.workbook.Workbook'>\n"
     ]
    }
   ],
   "source": [
    "wbook = Workbook()\n",
    "wsheet = wbook.active\n",
    "\n",
    "wsheet.title = \"T1\"\n",
    "\n",
    "print(type(wbook))"
   ]
  },
  {
   "cell_type": "code",
   "execution_count": 34,
   "metadata": {},
   "outputs": [],
   "source": [
    "n = 20\n",
    "\n",
    "x = np.arange(0, 100)\n",
    "y = np.random.rand(n)\n",
    "\n",
    "title = [\"X\", \"Y\"]"
   ]
  },
  {
   "cell_type": "code",
   "execution_count": 37,
   "metadata": {},
   "outputs": [],
   "source": [
    "# init cell values\n",
    "# not found how to use numpy array directly (but a panda data frame should work.)\n",
    "wsheet[\"A1\"] = title[0]\n",
    "wsheet[\"B1\"] = title[1]\n",
    "\n",
    "for ii in range(0, n):\n",
    "    wsheet[\"A%d\" %(ii+2)] = x[ii]\n",
    "    wsheet[\"B%d\" %(ii+2)] = y[ii]\n",
    "    "
   ]
  },
  {
   "cell_type": "code",
   "execution_count": 49,
   "metadata": {},
   "outputs": [],
   "source": [
    "# plot using scatter plot\n",
    "wchart = ScatterChart()\n",
    "wchart.title = \"XY Chart\"\n",
    "wchart.x_axis.title = title[0]\n",
    "wchart.y_axis.title = title[1]\n",
    "\n",
    "wx = Reference(wsheet, min_col=1, min_row=2, max_row=2+n)\n",
    "wy = Reference(wsheet, min_col=2, min_row=2, max_row=2+n)\n",
    "\n",
    "wseries = Series(wy, wx, title_from_data=False)\n",
    "wchart.series.append(wseries)\n",
    "\n",
    "wsheet.add_chart(wchart, \"C2\")"
   ]
  },
  {
   "cell_type": "code",
   "execution_count": 51,
   "metadata": {},
   "outputs": [],
   "source": [
    "wbook.save(\"./out/3/example.xlsx\")"
   ]
  },
  {
   "cell_type": "code",
   "execution_count": null,
   "metadata": {},
   "outputs": [],
   "source": []
  }
 ],
 "metadata": {
  "kernelspec": {
   "display_name": "Python 3",
   "language": "python",
   "name": "python3"
  },
  "language_info": {
   "codemirror_mode": {
    "name": "ipython",
    "version": 3
   },
   "file_extension": ".py",
   "mimetype": "text/x-python",
   "name": "python",
   "nbconvert_exporter": "python",
   "pygments_lexer": "ipython3",
   "version": "3.7.3"
  }
 },
 "nbformat": 4,
 "nbformat_minor": 2
}
