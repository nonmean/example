{
 "cells": [
  {
   "cell_type": "code",
   "execution_count": 1,
   "metadata": {},
   "outputs": [],
   "source": [
    "import os"
   ]
  },
  {
   "cell_type": "markdown",
   "metadata": {},
   "source": [
    "remove all JPG files when there is an NEF file with the same name"
   ]
  },
  {
   "cell_type": "code",
   "execution_count": null,
   "metadata": {},
   "outputs": [],
   "source": [
    "path = \"./27102019/\"\n",
    "\n",
    "# get all files\n",
    "files = os.listdir(path)\n",
    "\n",
    "for file in files:\n",
    "    file = file.split(\".\")\n",
    "    \n",
    "    if file[1] == \"NEF\":\n",
    "        if(os.path.isfile(path + file[0] + \".JPG\")):\n",
    "            try:\n",
    "                os.remove(path + file[0] + \".JPG\")\n",
    "            except:\n",
    "                print(\"Exception while deleting file\")\n",
    "            \n",
    "        else:\n",
    "            print(\"NO JPG FILE\")"
   ]
  }
 ],
 "metadata": {
  "kernelspec": {
   "display_name": "Python 3",
   "language": "python",
   "name": "python3"
  },
  "language_info": {
   "codemirror_mode": {
    "name": "ipython",
    "version": 3
   },
   "file_extension": ".py",
   "mimetype": "text/x-python",
   "name": "python",
   "nbconvert_exporter": "python",
   "pygments_lexer": "ipython3",
   "version": "3.7.3"
  }
 },
 "nbformat": 4,
 "nbformat_minor": 2
}
