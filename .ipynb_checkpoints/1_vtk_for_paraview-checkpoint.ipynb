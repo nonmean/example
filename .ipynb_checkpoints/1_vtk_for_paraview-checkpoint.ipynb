{
 "cells": [
  {
   "cell_type": "code",
   "execution_count": 16,
   "metadata": {},
   "outputs": [],
   "source": [
    "import numpy as np\n",
    "import matplotlib.pyplot as plt\n",
    "from pyevtk.hl import pointsToVTK, gridToVTK\n",
    "\n",
    "import logging\n",
    "mpl_logger = logging.getLogger(\"matplotlib\")\n",
    "mpl_logger.setLevel(logging.WARNING)"
   ]
  },
  {
   "cell_type": "markdown",
   "metadata": {},
   "source": [
    "write python data to vtk file for paraview  \n",
    "required lib: pyevtk"
   ]
  },
  {
   "cell_type": "markdown",
   "metadata": {},
   "source": [
    "1) Grid Data"
   ]
  },
  {
   "cell_type": "code",
   "execution_count": 29,
   "metadata": {},
   "outputs": [
    {
     "name": "stdout",
     "output_type": "stream",
     "text": [
      "(100, 120, 1)\n"
     ]
    }
   ],
   "source": [
    "dsize = [100, 120, 1]\n",
    "data = np.random.randn(dsize[0], dsize[1], dsize[2])\n",
    "\n",
    "data[data > 0] = 1\n",
    "data[data < 0] = -1\n",
    "\n",
    "print(data.shape)"
   ]
  },
  {
   "cell_type": "code",
   "execution_count": 31,
   "metadata": {},
   "outputs": [
    {
     "data": {
      "text/plain": [
       "<matplotlib.colorbar.Colorbar at 0x1b4035e70f0>"
      ]
     },
     "execution_count": 31,
     "metadata": {},
     "output_type": "execute_result"
    },
    {
     "data": {
      "image/png": "[encoded data removed]",
      "text/plain": [
       "<Figure size 432x288 with 2 Axes>"
      ]
     },
     "metadata": {
      "needs_background": "light"
     },
     "output_type": "display_data"
    }
   ],
   "source": [
    "plt.imshow(data[:, :, 0], origin=\"lower\", cmap=\"jet\")\n",
    "plt.colorbar()"
   ]
  },
  {
   "cell_type": "code",
   "execution_count": 34,
   "metadata": {},
   "outputs": [
    {
     "name": "stdout",
     "output_type": "stream",
     "text": [
      "(100,) (120,) (1,)\n"
     ]
    },
    {
     "data": {
      "text/plain": [
       "'C:\\\\Users\\\\bruce\\\\Documents\\\\dev\\\\example\\\\out\\\\1\\\\2d_grid.vtr'"
      ]
     },
     "execution_count": 34,
     "metadata": {},
     "output_type": "execute_result"
    }
   ],
   "source": [
    "# generate coordinates\n",
    "xx = np.ascontiguousarray(np.linspace(0, dsize[0]-1, dsize[0]))\n",
    "yy = np.ascontiguousarray(np.linspace(0, dsize[1]-1, dsize[1]))\n",
    "zz = np.ascontiguousarray(np.linspace(0, dsize[2]-1, dsize[2]))\n",
    "\n",
    "print(xx.shape, yy.shape, zz.shape)\n",
    "\n",
    "gridToVTK(\"./out/1/2d_grid\", xx, yy, zz, pointData = {\"PT_Value\" : data})"
   ]
  },
  {
   "cell_type": "markdown",
   "metadata": {},
   "source": [
    "In paraview\n",
    "![How it looks like in Paraview](figure/1/grid_example.png)"
   ]
  },
  {
   "cell_type": "markdown",
   "metadata": {},
   "source": [
    "2) Point Data"
   ]
  },
  {
   "cell_type": "code",
   "execution_count": 39,
   "metadata": {},
   "outputs": [],
   "source": [
    "data_shape = dsize = [100, 3]\n",
    "data = np.zeros(data_shape)\n",
    "value = np.ones((data_shape[0]))\n",
    "# Generate locations\n",
    "for ii in range(0, data.shape[1] - 1):\n",
    "    data[:, ii] = np.random.rand(data.shape[0])\n",
    "    "
   ]
  },
  {
   "cell_type": "code",
   "execution_count": 41,
   "metadata": {},
   "outputs": [
    {
     "data": {
      "text/plain": [
       "<matplotlib.collections.PathCollection at 0x1b4036c7c88>"
      ]
     },
     "execution_count": 41,
     "metadata": {},
     "output_type": "execute_result"
    },
    {
     "data": {
      "image/png": "[encoded data removed]",
      "text/plain": [
       "<Figure size 432x288 with 1 Axes>"
      ]
     },
     "metadata": {
      "needs_background": "light"
     },
     "output_type": "display_data"
    }
   ],
   "source": [
    "plt.scatter(data[:, 0], data[:, 1])"
   ]
  },
  {
   "cell_type": "code",
   "execution_count": 40,
   "metadata": {},
   "outputs": [
    {
     "data": {
      "text/plain": [
       "'C:\\\\Users\\\\bruce\\\\Documents\\\\dev\\\\example\\\\out\\\\1\\\\2d_points.vtu'"
      ]
     },
     "execution_count": 40,
     "metadata": {},
     "output_type": "execute_result"
    }
   ],
   "source": [
    "xx = np.ascontiguousarray(data[:, 0])\n",
    "yy = np.ascontiguousarray(data[:, 1])\n",
    "zz = np.ascontiguousarray(data[:, 2])\n",
    "\n",
    "pointsToVTK(\"./out/1/2d_points\", xx, yy, zz, data = {\"PT_Value\" : value}) "
   ]
  },
  {
   "cell_type": "markdown",
   "metadata": {},
   "source": [
    "In paraview\n",
    "![How it looks like in Paraview](figure/1/pts_example.png)"
   ]
  },
  {
   "cell_type": "markdown",
   "metadata": {},
   "source": [
    "3) load as an animation\n",
    "\n",
    "use file name with a pattern as: \"./out/1/2d_points_%d\" than the paraview will load all of the files as an animation"
   ]
  }
 ],
 "metadata": {
  "kernelspec": {
   "display_name": "Python 3",
   "language": "python",
   "name": "python3"
  }
 },
 "nbformat": 4,
 "nbformat_minor": 2
}
